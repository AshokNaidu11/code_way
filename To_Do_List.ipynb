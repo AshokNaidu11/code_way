{
  "nbformat": 4,
  "nbformat_minor": 0,
  "metadata": {
    "colab": {
      "provenance": [],
      "authorship_tag": "ABX9TyMtv084ze7R7bXTloO5yD4L",
      "include_colab_link": true
    },
    "kernelspec": {
      "name": "python3",
      "display_name": "Python 3"
    },
    "language_info": {
      "name": "python"
    }
  },
  "cells": [
    {
      "cell_type": "markdown",
      "metadata": {
        "id": "view-in-github",
        "colab_type": "text"
      },
      "source": [
        "<a href=\"https://colab.research.google.com/github/AshokNaidu11/code_way/blob/main/To_Do_List.ipynb\" target=\"_parent\"><img src=\"https://colab.research.google.com/assets/colab-badge.svg\" alt=\"Open In Colab\"/></a>"
      ]
    },
    {
      "cell_type": "code",
      "source": [
        "tasks=[]\n",
        "def add_tasks():\n",
        "    task=input(\"Enter a new task: \")\n",
        "    tasks.append(task)\n",
        "    print(\"\\nTask added Successfully.\")\n",
        "\n",
        "def delete_tasks():\n",
        "    if len(tasks)==0:\n",
        "        print(\"No Tasks to Delete.\")\n",
        "    else:\n",
        "        print(\"Tasks:\")\n",
        "        for i,task in enumerate(tasks):\n",
        "            print(f\"{i+1}.{task}\")\n",
        "        choice=int(input(\"Enter the task number to delete: \"))\n",
        "        if 0 < choice <= len(tasks):\n",
        "            del tasks[choice-1]\n",
        "            print(\"Task deleted Successfully.\")\n",
        "        else:\n",
        "            print(\"Invalid Task Number.\")\n",
        "\n",
        "def view_tasks():\n",
        "    if len(tasks)==0:\n",
        "        print(\"No Tasks.\")\n",
        "    else:\n",
        "        print(\"List of Tasks:\")\n",
        "        for i, task in enumerate(tasks):\n",
        "            print(f\"{i+1}.{task}\")\n",
        "\n",
        "def main():\n",
        "    while True:\n",
        "        print(\"\\nTo-Do-List Application\")\n",
        "        print(\"1.Add Task\")\n",
        "        print(\"2.View Task\")\n",
        "        print(\"3.Delete Task\")\n",
        "        print(\"4.Quit\")\n",
        "\n",
        "        choice=int(input(\"Enter your choice: \"))\n",
        "        if choice==1:\n",
        "            add_tasks()\n",
        "        elif choice==2:\n",
        "            view_tasks()\n",
        "        elif choice==3:\n",
        "            delete_tasks()\n",
        "        elif choice==4:\n",
        "            print(\"Exited from the To-Do-List.\")\n",
        "            break\n",
        "        else:\n",
        "            print(\"Invalid choice,please enter correct choice: \")\n",
        "\n",
        "if __name__==\"__main__\":\n",
        "    main()"
      ],
      "metadata": {
        "colab": {
          "base_uri": "https://localhost:8080/"
        },
        "id": "o5mtYmmw0IrE",
        "outputId": "056118c0-ab44-445b-9145-cb7e567ddb10"
      },
      "execution_count": 8,
      "outputs": [
        {
          "output_type": "stream",
          "name": "stdout",
          "text": [
            "\n",
            "To-Do-List Application\n",
            "1.Add Task\n",
            "2.View Task\n",
            "3.Delete Task\n",
            "4.Quit\n",
            "Enter your choice: 1\n",
            "Enter a new task: coding\n",
            "\n",
            "Task added Successfully.\n",
            "\n",
            "To-Do-List Application\n",
            "1.Add Task\n",
            "2.View Task\n",
            "3.Delete Task\n",
            "4.Quit\n",
            "Enter your choice: 2\n",
            "List of Tasks:\n",
            "1.coding\n",
            "\n",
            "To-Do-List Application\n",
            "1.Add Task\n",
            "2.View Task\n",
            "3.Delete Task\n",
            "4.Quit\n",
            "Enter your choice: 3\n",
            "Tasks:\n",
            "1.coding\n",
            "Enter the task number to delete: 1\n",
            "Task deleted Successfully.\n",
            "\n",
            "To-Do-List Application\n",
            "1.Add Task\n",
            "2.View Task\n",
            "3.Delete Task\n",
            "4.Quit\n",
            "Enter your choice: 4\n",
            "Exited from the To-Do-List.\n"
          ]
        }
      ]
    }
  ]
}