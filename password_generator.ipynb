{
  "nbformat": 4,
  "nbformat_minor": 0,
  "metadata": {
    "colab": {
      "provenance": [],
      "authorship_tag": "ABX9TyM/5FJjkgOdfutQZBxmtXPw",
      "include_colab_link": true
    },
    "kernelspec": {
      "name": "python3",
      "display_name": "Python 3"
    },
    "language_info": {
      "name": "python"
    }
  },
  "cells": [
    {
      "cell_type": "markdown",
      "metadata": {
        "id": "view-in-github",
        "colab_type": "text"
      },
      "source": [
        "<a href=\"https://colab.research.google.com/github/AshokNaidu11/code_way/blob/main/password_generator.ipynb\" target=\"_parent\"><img src=\"https://colab.research.google.com/assets/colab-badge.svg\" alt=\"Open In Colab\"/></a>"
      ]
    },
    {
      "cell_type": "code",
      "execution_count": 1,
      "metadata": {
        "colab": {
          "base_uri": "https://localhost:8080/"
        },
        "id": "juWMLx5x87Nw",
        "outputId": "904300d5-c5d8-430b-de97-c06cdd09171b"
      },
      "outputs": [
        {
          "output_type": "stream",
          "name": "stdout",
          "text": [
            "Please enter the length of the Password : 6\n",
            "Your Password for entered length is : S+r0(O\n"
          ]
        }
      ],
      "source": [
        "import string\n",
        "import random\n",
        "gen_password=string.ascii_letters+string.digits+string.punctuation\n",
        "length=int(input(\"Please enter the length of the Password : \"))\n",
        "password = ''.join(random.choices(gen_password, k=length))\n",
        "print(\"Your Password for entered length is :\",password)\n"
      ]
    }
  ]
}